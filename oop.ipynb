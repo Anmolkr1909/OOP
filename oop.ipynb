{
  "nbformat": 4,
  "nbformat_minor": 0,
  "metadata": {
    "colab": {
      "provenance": [],
      "include_colab_link": true
    },
    "kernelspec": {
      "name": "python3",
      "display_name": "Python 3"
    },
    "language_info": {
      "name": "python"
    }
  },
  "cells": [
    {
      "cell_type": "markdown",
      "metadata": {
        "id": "view-in-github",
        "colab_type": "text"
      },
      "source": [
        "<a href=\"https://colab.research.google.com/github/Anmolkr1909/OOP/blob/main/oop.ipynb\" target=\"_parent\"><img src=\"https://colab.research.google.com/assets/colab-badge.svg\" alt=\"Open In Colab\"/></a>"
      ]
    },
    {
      "cell_type": "markdown",
      "source": [
        "#  **OOP**\n",
        "\n",
        "---\n",
        "\n",
        "\n",
        "\n",
        "---\n",
        "\n"
      ],
      "metadata": {
        "id": "kCzZLBRxGKe4"
      }
    },
    {
      "cell_type": "markdown",
      "source": [
        "81) Student Management System\n",
        "*   Tracks student name, age, and course"
      ],
      "metadata": {
        "id": "9Zpiz6dKF3aG"
      }
    },
    {
      "cell_type": "code",
      "source": [
        "class Student:\n",
        "    def __init__(self, name, age, course):\n",
        "        self.name = name\n",
        "        self.age = age\n",
        "        self.course = course\n",
        "\n",
        "    def show_info(self):\n",
        "        print(\"Student Name:\", self.name)\n",
        "        print(\"Student Age:\", self.age)\n",
        "        print(\"Student Course:\", self.course)\n",
        "        print(\"---------------\")\n",
        "\n",
        "# Creating students\n",
        "student1 = Student(\"Anmol\", 21, \"AI\")\n",
        "student2 = Student(\"Neha\", 22, \"Python\")\n",
        "\n",
        "# Showing info\n",
        "student1.show_info()\n",
        "student2.show_info()\n"
      ],
      "metadata": {
        "colab": {
          "base_uri": "https://localhost:8080/"
        },
        "id": "jqeNErQqGcws",
        "outputId": "2d1cdb0f-9e4a-420c-a1ae-3311346a1f13"
      },
      "execution_count": null,
      "outputs": [
        {
          "output_type": "stream",
          "name": "stdout",
          "text": [
            "Student Name: Anmol\n",
            "Student Age: 21\n",
            "Student Course: AI\n",
            "---------------\n",
            "Student Name: Neha\n",
            "Student Age: 22\n",
            "Student Course: Python\n",
            "---------------\n"
          ]
        }
      ]
    },
    {
      "cell_type": "markdown",
      "source": [
        "\n",
        "\n",
        "\n",
        "---\n",
        "\n"
      ],
      "metadata": {
        "id": "WfPl8Fr5GJX3"
      }
    },
    {
      "cell_type": "markdown",
      "source": [
        "82) Bank Account System\n",
        "*  Simulates a simple bank account"
      ],
      "metadata": {
        "id": "vvQt11LSG-MI"
      }
    },
    {
      "cell_type": "code",
      "source": [
        "class BankAccount:\n",
        "    def __init__(self, owner, balance=0):\n",
        "        self.owner = owner\n",
        "        self.balance = balance\n",
        "\n",
        "    def deposit(self, amount):\n",
        "        self.balance += amount\n",
        "        print(f\"₹{amount} deposited. New balance: ₹{self.balance}\")\n",
        "\n",
        "    def withdraw(self, amount):\n",
        "        if amount <= self.balance:\n",
        "            self.balance -= amount\n",
        "            print(f\"₹{amount} withdrawn. Remaining balance: ₹{self.balance}\")\n",
        "        else:\n",
        "            print(\"Insufficient balance!\")\n",
        "\n",
        "# Create account and perform actions\n",
        "acc = BankAccount(\"Anmol\", 1000)\n",
        "acc.deposit(500)\n",
        "acc.withdraw(800)\n",
        "acc.withdraw(900)\n"
      ],
      "metadata": {
        "colab": {
          "base_uri": "https://localhost:8080/"
        },
        "id": "_ewuPBkvG88U",
        "outputId": "bfd80409-57c2-4973-bb94-a8b2e5f7214d"
      },
      "execution_count": null,
      "outputs": [
        {
          "output_type": "stream",
          "name": "stdout",
          "text": [
            "₹500 deposited. New balance: ₹1500\n",
            "₹800 withdrawn. Remaining balance: ₹700\n",
            "Insufficient balance!\n"
          ]
        }
      ]
    },
    {
      "cell_type": "markdown",
      "source": [
        "\n",
        "\n",
        "---\n",
        "\n",
        "\n"
      ],
      "metadata": {
        "id": "t_q38OamHkYf"
      }
    },
    {
      "cell_type": "markdown",
      "source": [
        "83) Shopping Cart System\n",
        "*  Add items and calculate total."
      ],
      "metadata": {
        "id": "vldlbdU8JDbD"
      }
    },
    {
      "cell_type": "code",
      "source": [
        "class Cart:\n",
        "    def __init__(self):\n",
        "        self.items = {}\n",
        "\n",
        "    def add_item(self, name, price):\n",
        "        self.items[name] = price\n",
        "        print(f\"{name} added for ₹{price}\")\n",
        "\n",
        "    def total_price(self):\n",
        "        total = sum(self.items.values())\n",
        "        print(f\"Total Bill: ₹{total}\")\n",
        "\n",
        "# Use cart\n",
        "c = Cart()\n",
        "c.add_item(\"Shoes\", 999)\n",
        "c.add_item(\"Bag\", 499)\n",
        "c.total_price()\n"
      ],
      "metadata": {
        "colab": {
          "base_uri": "https://localhost:8080/"
        },
        "id": "aqi6s11LJQFB",
        "outputId": "49551712-09d4-4d82-c1ba-ebb1814080a9"
      },
      "execution_count": null,
      "outputs": [
        {
          "output_type": "stream",
          "name": "stdout",
          "text": [
            "Shoes added for ₹999\n",
            "Bag added for ₹499\n",
            "Total Bill: ₹1498\n"
          ]
        }
      ]
    },
    {
      "cell_type": "markdown",
      "source": [
        "\n",
        "\n",
        "---\n",
        "\n",
        "\n",
        "\n",
        "---\n",
        "\n"
      ],
      "metadata": {
        "id": "mB134l_YJrEA"
      }
    }
  ]
}